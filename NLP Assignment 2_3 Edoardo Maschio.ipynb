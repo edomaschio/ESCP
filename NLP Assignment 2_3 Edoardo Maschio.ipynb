{
 "cells": [
  {
   "cell_type": "markdown",
   "metadata": {},
   "source": [
    "## Edoardo Maschio - NLP assignment\n",
    "Assignment 2 & 3 \n",
    "Demographics prediction\n",
    "\n",
    "The solution development follows the  CRSIP-DM framework."
   ]
  },
  {
   "cell_type": "markdown",
   "metadata": {},
   "source": [
    "## 1. General Understanding"
   ]
  },
  {
   "cell_type": "markdown",
   "metadata": {},
   "source": [
    "We want to predict the demographics for a data set given some user (5% of total users) behaviour (keywords reaed) data."
   ]
  },
  {
   "cell_type": "markdown",
   "metadata": {},
   "source": [
    "## 2. Data Understanding\n",
    "\n",
    "Importing the relevant python packages"
   ]
  },
  {
   "cell_type": "code",
   "execution_count": 1,
   "metadata": {},
   "outputs": [
    {
     "data": {
      "text/html": [
       "<div>\n",
       "<style scoped>\n",
       "    .dataframe tbody tr th:only-of-type {\n",
       "        vertical-align: middle;\n",
       "    }\n",
       "\n",
       "    .dataframe tbody tr th {\n",
       "        vertical-align: top;\n",
       "    }\n",
       "\n",
       "    .dataframe thead th {\n",
       "        text-align: right;\n",
       "    }\n",
       "</style>\n",
       "<table border=\"1\" class=\"dataframe\">\n",
       "  <thead>\n",
       "    <tr style=\"text-align: right;\">\n",
       "      <th></th>\n",
       "      <th>ID</th>\n",
       "      <th>keywords</th>\n",
       "      <th>age</th>\n",
       "      <th>sex</th>\n",
       "    </tr>\n",
       "  </thead>\n",
       "  <tbody>\n",
       "    <tr>\n",
       "      <th>1</th>\n",
       "      <td>361410</td>\n",
       "      <td>forum:3;contrat:1;calcul:3;conges:1;mission:4;...</td>\n",
       "      <td>47</td>\n",
       "      <td>M</td>\n",
       "    </tr>\n",
       "    <tr>\n",
       "      <th>2</th>\n",
       "      <td>211450</td>\n",
       "      <td>villa:1;location:2;aquitaine:2;maison:1;vacanc...</td>\n",
       "      <td>61</td>\n",
       "      <td>F</td>\n",
       "    </tr>\n",
       "    <tr>\n",
       "      <th>3</th>\n",
       "      <td>1368807</td>\n",
       "      <td>trafic:1;tournante:1;drogue:1;france:1;plaque:...</td>\n",
       "      <td>45</td>\n",
       "      <td>M</td>\n",
       "    </tr>\n",
       "    <tr>\n",
       "      <th>4</th>\n",
       "      <td>3502570</td>\n",
       "      <td>trafic:1;septembre:1;greve:1;sncf:1;sortir:1;p...</td>\n",
       "      <td>22</td>\n",
       "      <td>M</td>\n",
       "    </tr>\n",
       "    <tr>\n",
       "      <th>5</th>\n",
       "      <td>2027488</td>\n",
       "      <td>darmanin:1;pour:1;ferme:1;jcms:1;conjoncture:1...</td>\n",
       "      <td>55</td>\n",
       "      <td>M</td>\n",
       "    </tr>\n",
       "    <tr>\n",
       "      <th>...</th>\n",
       "      <td>...</td>\n",
       "      <td>...</td>\n",
       "      <td>...</td>\n",
       "      <td>...</td>\n",
       "    </tr>\n",
       "    <tr>\n",
       "      <th>7265049</th>\n",
       "      <td>9994202</td>\n",
       "      <td>deja:2;credit:2;impot:2;jcms:2;les:2;chute:2;s...</td>\n",
       "      <td>60</td>\n",
       "      <td>M</td>\n",
       "    </tr>\n",
       "    <tr>\n",
       "      <th>7265050</th>\n",
       "      <td>10890</td>\n",
       "      <td>son:1;antilles:1;gouvernement:1;furieux:1;actu...</td>\n",
       "      <td>36</td>\n",
       "      <td>M</td>\n",
       "    </tr>\n",
       "    <tr>\n",
       "      <th>7265051</th>\n",
       "      <td>631294</td>\n",
       "      <td>network:1;jobs:1</td>\n",
       "      <td>45</td>\n",
       "      <td>M</td>\n",
       "    </tr>\n",
       "    <tr>\n",
       "      <th>7265052</th>\n",
       "      <td>4147523</td>\n",
       "      <td>ail:1;recettes:5;laque:1;pepites:1;gigot:1;pom...</td>\n",
       "      <td>42</td>\n",
       "      <td>F</td>\n",
       "    </tr>\n",
       "    <tr>\n",
       "      <th>7265053</th>\n",
       "      <td>787403</td>\n",
       "      <td>psychologie:1;prochaine:1;horoscope:1;singe:1;...</td>\n",
       "      <td>59</td>\n",
       "      <td>F</td>\n",
       "    </tr>\n",
       "  </tbody>\n",
       "</table>\n",
       "<p>6418659 rows × 4 columns</p>\n",
       "</div>"
      ],
      "text/plain": [
       "              ID                                           keywords  age sex\n",
       "1         361410  forum:3;contrat:1;calcul:3;conges:1;mission:4;...   47   M\n",
       "2         211450  villa:1;location:2;aquitaine:2;maison:1;vacanc...   61   F\n",
       "3        1368807  trafic:1;tournante:1;drogue:1;france:1;plaque:...   45   M\n",
       "4        3502570  trafic:1;septembre:1;greve:1;sncf:1;sortir:1;p...   22   M\n",
       "5        2027488  darmanin:1;pour:1;ferme:1;jcms:1;conjoncture:1...   55   M\n",
       "...          ...                                                ...  ...  ..\n",
       "7265049  9994202  deja:2;credit:2;impot:2;jcms:2;les:2;chute:2;s...   60   M\n",
       "7265050    10890  son:1;antilles:1;gouvernement:1;furieux:1;actu...   36   M\n",
       "7265051   631294                                   network:1;jobs:1   45   M\n",
       "7265052  4147523  ail:1;recettes:5;laque:1;pepites:1;gigot:1;pom...   42   F\n",
       "7265053   787403  psychologie:1;prochaine:1;horoscope:1;singe:1;...   59   F\n",
       "\n",
       "[6418659 rows x 4 columns]"
      ]
     },
     "execution_count": 1,
     "metadata": {},
     "output_type": "execute_result"
    }
   ],
   "source": [
    "import numpy as np\n",
    "import pandas as pd\n",
    "import nltk\n",
    "from nltk.corpus import stopwords\n",
    "from nltk.stem.porter import PorterStemmer\n",
    "from sklearn.model_selection import train_test_split\n",
    "from sklearn.feature_extraction.text import TfidfVectorizer\n",
    "from sklearn.metrics import accuracy_score, confusion_matrix, classification_report, plot_roc_curve\n",
    "import matplotlib.pyplot as plt\n",
    "df=pd.read_csv(\"/Users/edoardomaschio/Library/Mobile Documents/com~apple~CloudDocs/Escp/NLP/train.csv\")\n",
    "df.dropna(inplace=True)\n",
    "df"
   ]
  },
  {
   "cell_type": "code",
   "execution_count": 2,
   "metadata": {},
   "outputs": [],
   "source": [
    "df[\"sex\"]=df[\"sex\"].replace(\"M\",1)\n",
    "df[\"sex\"]=df[\"sex\"].replace(\"F\",0)"
   ]
  },
  {
   "cell_type": "markdown",
   "metadata": {},
   "source": [
    "## 3. Data Preparation"
   ]
  },
  {
   "cell_type": "code",
   "execution_count": null,
   "metadata": {},
   "outputs": [],
   "source": [
    "stop_words = stopwords.words()\n",
    "porter = PorterStemmer()\n",
    "\n",
    "def cleantext(counttext):\n",
    "    wordcounts=counttext.split(\";\")\n",
    "    text=\"\"\n",
    "    for words in wordcounts:\n",
    "        wordocr=words.split(\":\")\n",
    "        if len(wordocr)>1 and not wordocr[0] in stop_words :\n",
    "            wordocr[0]=porter.stem(wordocr[0])\n",
    "            text+=(wordocr[0]+\" \")*int(wordocr[1])\n",
    "    return text"
   ]
  },
  {
   "cell_type": "code",
   "execution_count": 8,
   "metadata": {},
   "outputs": [],
   "source": [
    "df=df[df[\"keywords\"].str.contains(\":\")]\n",
    "df[\"keywords\"]=df[\"keywords\"].map(lambda x: cleantext(x))\n",
    "df.dropna(inplace=True)\n",
    "df.to_csv(\"train_clean.csv\",index=False,sep=',')\n",
    "df.head(10)"
   ]
  },
  {
   "cell_type": "code",
   "execution_count": 13,
   "metadata": {},
   "outputs": [],
   "source": [
    "test=pd.read_csv(\"/Users/edoardomaschio/Library/Mobile Documents/com~apple~CloudDocs/Escp/NLP/test.csv\")  # 311M original\n",
    "test.dropna(subset=[\"keywords\"], inplace=True) # 285M rows after dropna in keywords\n",
    "test=test[test[\"keywords\"].str.contains(\":\")] #only 7 rows lost in this filter"
   ]
  },
  {
   "cell_type": "code",
   "execution_count": 14,
   "metadata": {},
   "outputs": [],
   "source": [
    "test[\"keywords\"]=test[\"keywords\"].map(lambda x: cleantext(x))"
   ]
  },
  {
   "cell_type": "code",
   "execution_count": 15,
   "metadata": {},
   "outputs": [],
   "source": [
    "test.dropna(subset=[\"keywords\"], inplace=True)\n",
    "test.to_csv(\"test_clean.csv\",index=False,sep=',')"
   ]
  },
  {
   "cell_type": "markdown",
   "metadata": {},
   "source": [
    "## 3. Model Selection"
   ]
  },
  {
   "cell_type": "markdown",
   "metadata": {},
   "source": [
    "### Apply TfidfVectorizer"
   ]
  },
  {
   "cell_type": "code",
   "execution_count": 16,
   "metadata": {},
   "outputs": [],
   "source": [
    "df=pd.read_csv(\"train_clean.csv\")\n",
    "test=pd.read_csv(\"test_clean.csv\")"
   ]
  },
  {
   "cell_type": "code",
   "execution_count": 18,
   "metadata": {},
   "outputs": [
    {
     "name": "stdout",
     "output_type": "stream",
     "text": [
      "(706792,)\n",
      "(176698,)\n",
      "(706792,)\n",
      "(176698,)\n",
      "(706792,)\n",
      "(176698,)\n"
     ]
    }
   ],
   "source": [
    "X_train,X_test,y_train,y_test,z_train,z_test = train_test_split(df[\"keywords\"],df[\"sex\"],df[\"age\"], test_size = 0.2, random_state = 42)\n",
    "print(X_train.shape)\n",
    "print(X_test.shape)\n",
    "print(y_train.shape)\n",
    "print(y_test.shape)\n",
    "print(z_train.shape)\n",
    "print(z_test.shape)"
   ]
  },
  {
   "cell_type": "code",
   "execution_count": 19,
   "metadata": {},
   "outputs": [
    {
     "data": {
      "text/plain": [
       "TfidfVectorizer()"
      ]
     },
     "execution_count": 19,
     "metadata": {},
     "output_type": "execute_result"
    }
   ],
   "source": [
    "vc_tf_idf = TfidfVectorizer()\n",
    "vc_tf_idf.fit(X_train.apply(lambda x: np.str_(x)))"
   ]
  },
  {
   "cell_type": "code",
   "execution_count": 21,
   "metadata": {},
   "outputs": [
    {
     "name": "stdout",
     "output_type": "stream",
     "text": [
      "Vocabulary size: 215308\n"
     ]
    }
   ],
   "source": [
    "print(\"Vocabulary size: {}\".format(len(vc_tf_idf.vocabulary_)))"
   ]
  },
  {
   "cell_type": "code",
   "execution_count": 22,
   "metadata": {},
   "outputs": [
    {
     "data": {
      "text/plain": [
       "(array([0, 0, 0, 0, 0, 0, 1, 1, 1, 1, 1, 1, 1, 2, 2]),\n",
       " array([189121, 155459, 138245, 135587, 114325,  90519, 186278, 186136,\n",
       "        185584, 181329, 172179, 160577,  88175, 211432,  59230]))"
      ]
     },
     "execution_count": 22,
     "metadata": {},
     "output_type": "execute_result"
    }
   ],
   "source": [
    "X_train_tf = vc_tf_idf.transform(X_train.apply(lambda x: np.str_(x)))\n",
    "X_train_tf[:3].nonzero()"
   ]
  },
  {
   "cell_type": "markdown",
   "metadata": {},
   "source": [
    "### Build model for \"Sex\" and store result"
   ]
  },
  {
   "cell_type": "code",
   "execution_count": 23,
   "metadata": {},
   "outputs": [
    {
     "data": {
      "text/plain": [
       "MultinomialNB()"
      ]
     },
     "execution_count": 23,
     "metadata": {},
     "output_type": "execute_result"
    }
   ],
   "source": [
    "from sklearn.naive_bayes import MultinomialNB\n",
    "mnb = MultinomialNB()\n",
    "mnb.fit(X_train_tf,y_train)"
   ]
  },
  {
   "cell_type": "code",
   "execution_count": 24,
   "metadata": {},
   "outputs": [
    {
     "data": {
      "text/plain": [
       "LogisticRegression(max_iter=10000)"
      ]
     },
     "execution_count": 24,
     "metadata": {},
     "output_type": "execute_result"
    }
   ],
   "source": [
    "from sklearn.linear_model import LogisticRegression\n",
    "logreg = LogisticRegression(max_iter=12000)\n",
    "logreg.fit(X_train_tf,y_train)"
   ]
  },
  {
   "cell_type": "code",
   "execution_count": 25,
   "metadata": {},
   "outputs": [
    {
     "data": {
      "text/plain": [
       "RandomForestClassifier(max_depth=8, n_estimators=2000)"
      ]
     },
     "execution_count": 25,
     "metadata": {},
     "output_type": "execute_result"
    }
   ],
   "source": [
    "from sklearn.ensemble import RandomForestClassifier\n",
    "rfc= RandomForestClassifier(n_estimators=2000,max_depth=8)\n",
    "rfc.fit(X_train_tf,y_train)"
   ]
  },
  {
   "cell_type": "code",
   "execution_count": 26,
   "metadata": {},
   "outputs": [],
   "source": [
    "X_test_tf = vc_tf_idf.transform(X_test.apply(lambda x: np.str_(x)))"
   ]
  },
  {
   "cell_type": "code",
   "execution_count": 27,
   "metadata": {},
   "outputs": [],
   "source": [
    "predictionsex = dict()\n",
    "predictionsex[\"mnb\"] = mnb.predict(X_test_tf)\n",
    "predictionsex[\"logreg\"] = logreg.predict(X_test_tf)\n",
    "predictionsex[\"rfc\"] = rfc.predict(X_test_tf)"
   ]
  },
  {
   "cell_type": "markdown",
   "metadata": {},
   "source": [
    "## 4. Model Evaluation"
   ]
  },
  {
   "cell_type": "code",
   "execution_count": 28,
   "metadata": {},
   "outputs": [
    {
     "name": "stdout",
     "output_type": "stream",
     "text": [
      "              precision    recall  f1-score   support\n",
      "\n",
      "           0       0.61      0.46      0.53     81980\n",
      "           1       0.62      0.75      0.67     94718\n",
      "\n",
      "    accuracy                           0.61    176698\n",
      "   macro avg       0.61      0.60      0.60    176698\n",
      "weighted avg       0.61      0.61      0.61    176698\n",
      "\n"
     ]
    }
   ],
   "source": [
    "print(classification_report(y_test,predictionsex[\"mnb\"]))"
   ]
  },
  {
   "cell_type": "code",
   "execution_count": 29,
   "metadata": {},
   "outputs": [
    {
     "name": "stdout",
     "output_type": "stream",
     "text": [
      "              precision    recall  f1-score   support\n",
      "\n",
      "           0       0.61      0.49      0.54     81980\n",
      "           1       0.62      0.72      0.67     94718\n",
      "\n",
      "    accuracy                           0.62    176698\n",
      "   macro avg       0.61      0.61      0.61    176698\n",
      "weighted avg       0.61      0.62      0.61    176698\n",
      "\n"
     ]
    }
   ],
   "source": [
    "print(classification_report(y_test,predictionsex[\"logreg\"]))"
   ]
  },
  {
   "cell_type": "code",
   "execution_count": 30,
   "metadata": {},
   "outputs": [
    {
     "name": "stdout",
     "output_type": "stream",
     "text": [
      "              precision    recall  f1-score   support\n",
      "\n",
      "           0       0.84      0.05      0.09     81980\n",
      "           1       0.55      0.99      0.70     94718\n",
      "\n",
      "    accuracy                           0.55    176698\n",
      "   macro avg       0.69      0.52      0.40    176698\n",
      "weighted avg       0.68      0.55      0.42    176698\n",
      "\n"
     ]
    }
   ],
   "source": [
    "print(classification_report(y_test,predictionsex[\"rfc\"]))"
   ]
  },
  {
   "cell_type": "code",
   "execution_count": 31,
   "metadata": {},
   "outputs": [
    {
     "data": {
      "text/plain": [
       "0.6162265560447769"
      ]
     },
     "execution_count": 31,
     "metadata": {},
     "output_type": "execute_result"
    }
   ],
   "source": [
    "accuracy_score(y_test,predictionsex[\"logreg\"])"
   ]
  },
  {
   "cell_type": "code",
   "execution_count": 32,
   "metadata": {},
   "outputs": [
    {
     "data": {
      "image/png": "[encoded data removed]",
      "text/plain": [
       "<Figure size 432x288 with 1 Axes>"
      ]
     },
     "metadata": {
      "needs_background": "light"
     },
     "output_type": "display_data"
    }
   ],
   "source": [
    "ax = plt.gca()\n",
    "test_rf = plot_roc_curve(logreg, X_test_tf, y_test,ax=ax, alpha=0.8, name=\"test\")\n",
    "train_rf = plot_roc_curve(logreg,X_train_tf, y_train,ax=ax, alpha=0.8, name=\"train\")\n",
    "plt.show()"
   ]
  },
  {
   "cell_type": "code",
   "execution_count": 33,
   "metadata": {},
   "outputs": [
    {
     "data": {
      "image/png": "[encoded data removed]",
      "text/plain": [
       "<Figure size 432x288 with 1 Axes>"
      ]
     },
     "metadata": {
      "needs_background": "light"
     },
     "output_type": "display_data"
    }
   ],
   "source": [
    "ax = plt.gca()\n",
    "test_rf = plot_roc_curve(mnb, X_test_tf, y_test,ax=ax, alpha=0.8, name=\"test\")\n",
    "train_rf = plot_roc_curve(mnb,X_train_tf, y_train,ax=ax, alpha=0.8, name=\"train\")\n",
    "plt.show()"
   ]
  },
  {
   "cell_type": "code",
   "execution_count": 34,
   "metadata": {},
   "outputs": [
    {
     "data": {
      "image/png": "[encoded data removed]",
      "text/plain": [
       "<Figure size 432x288 with 1 Axes>"
      ]
     },
     "metadata": {
      "needs_background": "light"
     },
     "output_type": "display_data"
    }
   ],
   "source": [
    "ax = plt.gca()\n",
    "test_rf = plot_roc_curve(rfc, X_test_tf, y_test,ax=ax, alpha=0.8, name=\"test\")\n",
    "train_rf = plot_roc_curve(rfc,X_train_tf, y_train,ax=ax, alpha=0.8, name=\"train\")\n",
    "plt.show()"
   ]
  },
  {
   "cell_type": "code",
   "execution_count": 35,
   "metadata": {},
   "outputs": [],
   "source": [
    "X_test_final = vc_tf_idf.transform(test[\"keywords\"].apply(lambda x: np.str_(x)))"
   ]
  },
  {
   "cell_type": "code",
   "execution_count": 36,
   "metadata": {},
   "outputs": [],
   "source": [
    "result=pd.DataFrame()\n",
    "result[\"ID\"]=test[\"ID\"]\n",
    "result[\"sex_pred\"]=logreg.predict(X_test_final)"
   ]
  },
  {
   "cell_type": "code",
   "execution_count": 37,
   "metadata": {},
   "outputs": [],
   "source": [
    "result[\"sex_pred\"]=result[\"sex_pred\"].replace(1, \"M\")\n",
    "result[\"sex_pred\"]=result[\"sex_pred\"].replace(0, \"F\")"
   ]
  },
  {
   "cell_type": "code",
   "execution_count": 38,
   "metadata": {},
   "outputs": [],
   "source": [
    "result.to_csv(\"test_result.csv\",index=False,sep=',')"
   ]
  },
  {
   "cell_type": "markdown",
   "metadata": {},
   "source": [
    "### Model for \"Age\" and storing result\n",
    "\n",
    "I am gonna compare 6 regressors are: Logistic Regression, Linear Regression, multinomialNB, Random Forest Regressor, Adabooster Regressor, and Gradientboosting Regressor.\n",
    "\n",
    "So for the whole dataset, we only apply SGD regressor to save time."
   ]
  },
  {
   "cell_type": "code",
   "execution_count": 39,
   "metadata": {},
   "outputs": [
    {
     "data": {
      "text/plain": [
       "SGDRegressor(alpha=1e-05, max_iter=10000, random_state=42)"
      ]
     },
     "execution_count": 39,
     "metadata": {},
     "output_type": "execute_result"
    }
   ],
   "source": [
    "from sklearn.linear_model import SGDRegressor\n",
    "sgd = SGDRegressor(alpha=0.00001,max_iter=10000,random_state=42)\n",
    "sgd.fit(X_train_tf,z_train)"
   ]
  },
  {
   "cell_type": "code",
   "execution_count": 40,
   "metadata": {},
   "outputs": [
    {
     "name": "stdout",
     "output_type": "stream",
     "text": [
      "Mean square error:155.4632\n",
      "Mean absolute error:9.9881\n",
      "R square:  10.14%\n"
     ]
    }
   ],
   "source": [
    "from sklearn.metrics import mean_squared_error \n",
    "from sklearn.metrics import mean_absolute_error\n",
    "from sklearn.metrics import r2_score\n",
    "predictionage = dict()\n",
    "predictionage[\"sgd\"] = sgd.predict(X_test_tf)\n",
    "print(\"Mean square error:%.4f\"%(mean_squared_error(z_test,predictionage[\"sgd\"])))\n",
    "print(\"Mean absolute error:%.4f\"%(mean_absolute_error(z_test,predictionage[\"sgd\"])))\n",
    "print(\"R square: \", '{:.2%}'.format(r2_score(z_test,predictionage[\"sgd\"])))"
   ]
  },
  {
   "cell_type": "code",
   "execution_count": 42,
   "metadata": {},
   "outputs": [
    {
     "name": "stdout",
     "output_type": "stream",
     "text": [
      "1 stands for the precision rate of the whole test data\n",
      "0    0.693426\n",
      "1    0.306574\n",
      "Name: age, dtype: float64\n"
     ]
    }
   ],
   "source": [
    "predictionage[\"dif\"]=predictionage[\"sgd\"]-z_test\n",
    "predictionage[\"dif\"]=predictionage[\"dif\"].map(lambda x: 0 if abs(x)>5 else 1)\n",
    "print(\"1 stands for the precision rate of the whole test data\")\n",
    "print(predictionage[\"dif\"].value_counts(1))"
   ]
  },
  {
   "cell_type": "code",
   "execution_count": 43,
   "metadata": {},
   "outputs": [],
   "source": [
    "result=pd.read_csv(\"test_result.csv\")\n",
    "result[\"age_pred\"]=sgd.predict(X_test_final)\n",
    "result.to_csv(\"test_result.csv\",index=False,sep=',')"
   ]
  }
 ],
 "metadata": {
  "kernelspec": {
   "display_name": "Python 3",
   "language": "python",
   "name": "python3"
  },
  "language_info": {
   "codemirror_mode": {
    "name": "ipython",
    "version": 3
   },
   "file_extension": ".py",
   "mimetype": "text/x-python",
   "name": "python",
   "nbconvert_exporter": "python",
   "pygments_lexer": "ipython3",
   "version": "3.8.5"
  }
 },
 "nbformat": 4,
 "nbformat_minor": 4
}
